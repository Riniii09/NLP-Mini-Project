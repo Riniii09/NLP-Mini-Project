{
  "cells": [
    {
      "cell_type": "markdown",
      "metadata": {
        "id": "view-in-github",
        "colab_type": "text"
      },
      "source": [
        "<a href=\"https://colab.research.google.com/github/Riniii09/NLP-Mini-Project/blob/main/Text_Classification_using_Deep_Learning.ipynb\" target=\"_parent\"><img src=\"https://colab.research.google.com/assets/colab-badge.svg\" alt=\"Open In Colab\"/></a>"
      ]
    },
    {
      "cell_type": "markdown",
      "metadata": {
        "id": "73deyIVszByn"
      },
      "source": [
        "\n",
        "---\n",
        "\n",
        "### **Task 2 of Mini Project: Text Classification using Deep Learning**\n",
        "\n"
      ]
    },
    {
      "cell_type": "code",
      "execution_count": null,
      "metadata": {
        "colab": {
          "base_uri": "https://localhost:8080/"
        },
        "id": "MEuPpWyp5ZOj",
        "outputId": "7e556eb7-4ece-419b-b368-59d7a82f5ca9"
      },
      "outputs": [
        {
          "output_type": "stream",
          "name": "stdout",
          "text": [
            "TensorFlow version: 2.18.0\n",
            "NumPy version: 1.26.4\n"
          ]
        }
      ],
      "source": [
        "import tensorflow as tf\n",
        "import numpy as np\n",
        "print(\"TensorFlow version:\", tf.__version__)\n",
        "print(\"NumPy version:\", np.__version__)\n"
      ]
    },
    {
      "cell_type": "code",
      "execution_count": null,
      "metadata": {
        "colab": {
          "base_uri": "https://localhost:8080/",
          "height": 73
        },
        "id": "I4oC7UGO5hdL",
        "outputId": "c4a0385d-9ff5-4d93-a474-292e12137dd8"
      },
      "outputs": [
        {
          "output_type": "display_data",
          "data": {
            "text/plain": [
              "<IPython.core.display.HTML object>"
            ],
            "text/html": [
              "\n",
              "     <input type=\"file\" id=\"files-b1225f16-96f0-448c-9e05-adcdbb275ae8\" name=\"files[]\" multiple disabled\n",
              "        style=\"border:none\" />\n",
              "     <output id=\"result-b1225f16-96f0-448c-9e05-adcdbb275ae8\">\n",
              "      Upload widget is only available when the cell has been executed in the\n",
              "      current browser session. Please rerun this cell to enable.\n",
              "      </output>\n",
              "      <script>// Copyright 2017 Google LLC\n",
              "//\n",
              "// Licensed under the Apache License, Version 2.0 (the \"License\");\n",
              "// you may not use this file except in compliance with the License.\n",
              "// You may obtain a copy of the License at\n",
              "//\n",
              "//      http://www.apache.org/licenses/LICENSE-2.0\n",
              "//\n",
              "// Unless required by applicable law or agreed to in writing, software\n",
              "// distributed under the License is distributed on an \"AS IS\" BASIS,\n",
              "// WITHOUT WARRANTIES OR CONDITIONS OF ANY KIND, either express or implied.\n",
              "// See the License for the specific language governing permissions and\n",
              "// limitations under the License.\n",
              "\n",
              "/**\n",
              " * @fileoverview Helpers for google.colab Python module.\n",
              " */\n",
              "(function(scope) {\n",
              "function span(text, styleAttributes = {}) {\n",
              "  const element = document.createElement('span');\n",
              "  element.textContent = text;\n",
              "  for (const key of Object.keys(styleAttributes)) {\n",
              "    element.style[key] = styleAttributes[key];\n",
              "  }\n",
              "  return element;\n",
              "}\n",
              "\n",
              "// Max number of bytes which will be uploaded at a time.\n",
              "const MAX_PAYLOAD_SIZE = 100 * 1024;\n",
              "\n",
              "function _uploadFiles(inputId, outputId) {\n",
              "  const steps = uploadFilesStep(inputId, outputId);\n",
              "  const outputElement = document.getElementById(outputId);\n",
              "  // Cache steps on the outputElement to make it available for the next call\n",
              "  // to uploadFilesContinue from Python.\n",
              "  outputElement.steps = steps;\n",
              "\n",
              "  return _uploadFilesContinue(outputId);\n",
              "}\n",
              "\n",
              "// This is roughly an async generator (not supported in the browser yet),\n",
              "// where there are multiple asynchronous steps and the Python side is going\n",
              "// to poll for completion of each step.\n",
              "// This uses a Promise to block the python side on completion of each step,\n",
              "// then passes the result of the previous step as the input to the next step.\n",
              "function _uploadFilesContinue(outputId) {\n",
              "  const outputElement = document.getElementById(outputId);\n",
              "  const steps = outputElement.steps;\n",
              "\n",
              "  const next = steps.next(outputElement.lastPromiseValue);\n",
              "  return Promise.resolve(next.value.promise).then((value) => {\n",
              "    // Cache the last promise value to make it available to the next\n",
              "    // step of the generator.\n",
              "    outputElement.lastPromiseValue = value;\n",
              "    return next.value.response;\n",
              "  });\n",
              "}\n",
              "\n",
              "/**\n",
              " * Generator function which is called between each async step of the upload\n",
              " * process.\n",
              " * @param {string} inputId Element ID of the input file picker element.\n",
              " * @param {string} outputId Element ID of the output display.\n",
              " * @return {!Iterable<!Object>} Iterable of next steps.\n",
              " */\n",
              "function* uploadFilesStep(inputId, outputId) {\n",
              "  const inputElement = document.getElementById(inputId);\n",
              "  inputElement.disabled = false;\n",
              "\n",
              "  const outputElement = document.getElementById(outputId);\n",
              "  outputElement.innerHTML = '';\n",
              "\n",
              "  const pickedPromise = new Promise((resolve) => {\n",
              "    inputElement.addEventListener('change', (e) => {\n",
              "      resolve(e.target.files);\n",
              "    });\n",
              "  });\n",
              "\n",
              "  const cancel = document.createElement('button');\n",
              "  inputElement.parentElement.appendChild(cancel);\n",
              "  cancel.textContent = 'Cancel upload';\n",
              "  const cancelPromise = new Promise((resolve) => {\n",
              "    cancel.onclick = () => {\n",
              "      resolve(null);\n",
              "    };\n",
              "  });\n",
              "\n",
              "  // Wait for the user to pick the files.\n",
              "  const files = yield {\n",
              "    promise: Promise.race([pickedPromise, cancelPromise]),\n",
              "    response: {\n",
              "      action: 'starting',\n",
              "    }\n",
              "  };\n",
              "\n",
              "  cancel.remove();\n",
              "\n",
              "  // Disable the input element since further picks are not allowed.\n",
              "  inputElement.disabled = true;\n",
              "\n",
              "  if (!files) {\n",
              "    return {\n",
              "      response: {\n",
              "        action: 'complete',\n",
              "      }\n",
              "    };\n",
              "  }\n",
              "\n",
              "  for (const file of files) {\n",
              "    const li = document.createElement('li');\n",
              "    li.append(span(file.name, {fontWeight: 'bold'}));\n",
              "    li.append(span(\n",
              "        `(${file.type || 'n/a'}) - ${file.size} bytes, ` +\n",
              "        `last modified: ${\n",
              "            file.lastModifiedDate ? file.lastModifiedDate.toLocaleDateString() :\n",
              "                                    'n/a'} - `));\n",
              "    const percent = span('0% done');\n",
              "    li.appendChild(percent);\n",
              "\n",
              "    outputElement.appendChild(li);\n",
              "\n",
              "    const fileDataPromise = new Promise((resolve) => {\n",
              "      const reader = new FileReader();\n",
              "      reader.onload = (e) => {\n",
              "        resolve(e.target.result);\n",
              "      };\n",
              "      reader.readAsArrayBuffer(file);\n",
              "    });\n",
              "    // Wait for the data to be ready.\n",
              "    let fileData = yield {\n",
              "      promise: fileDataPromise,\n",
              "      response: {\n",
              "        action: 'continue',\n",
              "      }\n",
              "    };\n",
              "\n",
              "    // Use a chunked sending to avoid message size limits. See b/62115660.\n",
              "    let position = 0;\n",
              "    do {\n",
              "      const length = Math.min(fileData.byteLength - position, MAX_PAYLOAD_SIZE);\n",
              "      const chunk = new Uint8Array(fileData, position, length);\n",
              "      position += length;\n",
              "\n",
              "      const base64 = btoa(String.fromCharCode.apply(null, chunk));\n",
              "      yield {\n",
              "        response: {\n",
              "          action: 'append',\n",
              "          file: file.name,\n",
              "          data: base64,\n",
              "        },\n",
              "      };\n",
              "\n",
              "      let percentDone = fileData.byteLength === 0 ?\n",
              "          100 :\n",
              "          Math.round((position / fileData.byteLength) * 100);\n",
              "      percent.textContent = `${percentDone}% done`;\n",
              "\n",
              "    } while (position < fileData.byteLength);\n",
              "  }\n",
              "\n",
              "  // All done.\n",
              "  yield {\n",
              "    response: {\n",
              "      action: 'complete',\n",
              "    }\n",
              "  };\n",
              "}\n",
              "\n",
              "scope.google = scope.google || {};\n",
              "scope.google.colab = scope.google.colab || {};\n",
              "scope.google.colab._files = {\n",
              "  _uploadFiles,\n",
              "  _uploadFilesContinue,\n",
              "};\n",
              "})(self);\n",
              "</script> "
            ]
          },
          "metadata": {}
        },
        {
          "output_type": "stream",
          "name": "stdout",
          "text": [
            "Saving Sheet1.csv to Sheet1.csv\n"
          ]
        }
      ],
      "source": [
        "from google.colab import files\n",
        "uploaded = files.upload()"
      ]
    },
    {
      "cell_type": "code",
      "execution_count": null,
      "metadata": {
        "id": "ikpLW3kL5m1o"
      },
      "outputs": [],
      "source": [
        "import pandas as pd\n",
        "data = pd.read_csv(\"Sheet1.csv\")"
      ]
    },
    {
      "cell_type": "code",
      "execution_count": null,
      "metadata": {
        "colab": {
          "base_uri": "https://localhost:8080/"
        },
        "id": "0OP25P3n5qAH",
        "outputId": "ec488dd7-4239-4297-8b00-4503a8eaa3db"
      },
      "outputs": [
        {
          "output_type": "stream",
          "name": "stdout",
          "text": [
            "<class 'pandas.core.frame.DataFrame'>\n",
            "RangeIndex: 1640 entries, 0 to 1639\n",
            "Data columns (total 3 columns):\n",
            " #   Column      Non-Null Count  Dtype \n",
            "---  ------      --------------  ----- \n",
            " 0   Sr.no       1640 non-null   int64 \n",
            " 1   Statements  1640 non-null   object\n",
            " 2   Category    1640 non-null   object\n",
            "dtypes: int64(1), object(2)\n",
            "memory usage: 38.6+ KB\n",
            "None\n",
            "   Sr.no                                         Statements    Category\n",
            "0      1  The lender shall provide a grace period of 15 ...  Beneficial\n",
            "1      2  The insured shall have the right to reinstate ...  Beneficial\n",
            "2      3  The borrower may request an extension of the l...  Beneficial\n",
            "3      4  Prepayment of the loan shall be allowed withou...  Beneficial\n",
            "4      5  The insurer guarantees coverage for all pre-ex...  Beneficial\n"
          ]
        }
      ],
      "source": [
        "import pandas as pd\n",
        "\n",
        "# Load the dataset\n",
        "data = pd.read_csv(\"Sheet1.csv\")\n",
        "\n",
        "# Display basic info\n",
        "print(data.info())  # Check columns and missing values\n",
        "print(data.head())  # Show first few rows"
      ]
    },
    {
      "cell_type": "code",
      "execution_count": null,
      "metadata": {
        "colab": {
          "base_uri": "https://localhost:8080/",
          "height": 541
        },
        "id": "JzC3Cg-65s_E",
        "outputId": "16c7660b-7183-407a-af51-fb36647417a0"
      },
      "outputs": [
        {
          "output_type": "display_data",
          "data": {
            "text/plain": [
              "<Figure size 800x500 with 1 Axes>"
            ],
            "image/png": "[encoded data removed]"
          },
          "metadata": {}
        }
      ],
      "source": [
        "import matplotlib.pyplot as plt # Import the pyplot module from matplotlib\n",
        "\n",
        "plt.figure(figsize=(8, 5))\n",
        "data['Category'].value_counts().plot(kind='bar', color='skyblue')\n",
        "plt.title('Class Distribution')\n",
        "plt.xlabel('Class')\n",
        "plt.ylabel('Count')\n",
        "plt.show()"
      ]
    },
    {
      "cell_type": "code",
      "execution_count": null,
      "metadata": {
        "id": "DpFabRve5wjb"
      },
      "outputs": [],
      "source": [
        "\n",
        "# Restart the kernel after running the above lines\n",
        "# Then run the following\n",
        "from sklearn.model_selection import train_test_split\n",
        "import pandas as pd\n",
        "\n",
        "data = pd.read_csv(\"Sheet1.csv\")\n",
        "\n",
        "train_data, test_data = train_test_split(data, test_size=0.2, random_state=42)\n",
        "train_data, val_data = train_test_split(train_data, test_size=0.1, random_state=42)"
      ]
    },
    {
      "cell_type": "code",
      "execution_count": null,
      "metadata": {
        "colab": {
          "base_uri": "https://localhost:8080/"
        },
        "id": "92Ro3YhP6PRw",
        "outputId": "b4a35b8e-c5f3-4b8f-ee4b-671735b18374"
      },
      "outputs": [
        {
          "output_type": "stream",
          "name": "stderr",
          "text": [
            "[nltk_data] Downloading package punkt to /root/nltk_data...\n",
            "[nltk_data]   Unzipping tokenizers/punkt.zip.\n",
            "[nltk_data] Downloading package stopwords to /root/nltk_data...\n",
            "[nltk_data]   Unzipping corpora/stopwords.zip.\n",
            "[nltk_data] Downloading package wordnet to /root/nltk_data...\n",
            "[nltk_data] Downloading package omw-1.4 to /root/nltk_data...\n"
          ]
        }
      ],
      "source": [
        "import re\n",
        "import nltk\n",
        "nltk.data.path.append(\"/root/nltk_data\")  # Ensure correct path\n",
        "nltk.download('punkt')\n",
        "nltk.download('stopwords')\n",
        "nltk.download('wordnet')\n",
        "nltk.download('omw-1.4')\n",
        "from nltk.corpus import stopwords\n",
        "from nltk.tokenize import word_tokenize\n"
      ]
    },
    {
      "cell_type": "code",
      "execution_count": null,
      "metadata": {
        "id": "7Axih7376XWK"
      },
      "outputs": [],
      "source": [
        "def preprocess_text(text):\n",
        "    text = text.lower()  # Convert to lowercase\n",
        "    text = re.sub(r'\\W', ' ', text)  # Remove special characters\n",
        "    text = re.sub(r'\\s+', ' ', text)  # Remove extra spaces\n",
        "    tokens = word_tokenize(text)  # Tokenize the text\n",
        "    tokens = [word for word in tokens if word not in stopwords.words('english')]  # Remove stopwords\n",
        "    return ' '.join(tokens)"
      ]
    },
    {
      "cell_type": "code",
      "execution_count": null,
      "metadata": {
        "colab": {
          "base_uri": "https://localhost:8080/"
        },
        "id": "0HCcSYFDBhq9",
        "outputId": "5280ef34-933d-44ff-eb66-2bef21280bd0"
      },
      "outputs": [
        {
          "output_type": "stream",
          "name": "stdout",
          "text": [
            "['punkt.zip', 'punkt']\n"
          ]
        }
      ],
      "source": [
        "import os\n",
        "print(os.listdir(nltk.data.find(\"tokenizers\")))\n"
      ]
    },
    {
      "cell_type": "code",
      "execution_count": null,
      "metadata": {
        "colab": {
          "base_uri": "https://localhost:8080/"
        },
        "id": "WQ_Lvlwb6ay2",
        "outputId": "02bd94ff-38b1-4d62-ed1b-481b92501141"
      },
      "outputs": [
        {
          "output_type": "stream",
          "name": "stderr",
          "text": [
            "[nltk_data] Downloading package punkt to /root/nltk_data...\n",
            "[nltk_data]   Package punkt is already up-to-date!\n",
            "[nltk_data] Downloading package stopwords to /root/nltk_data...\n",
            "[nltk_data]   Package stopwords is already up-to-date!\n",
            "[nltk_data] Downloading package punkt_tab to /root/nltk_data...\n",
            "[nltk_data]   Unzipping tokenizers/punkt_tab.zip.\n"
          ]
        },
        {
          "output_type": "stream",
          "name": "stdout",
          "text": [
            "                                             Statements  \\\n",
            "117   The borrower may qualify for interest rate red...   \n",
            "421   The credit agreement allows users to set autom...   \n",
            "1298  The parties agree to maintain confidentiality ...   \n",
            "774   If a business fails to report taxable income, ...   \n",
            "1486  Any delays in fulfilling obligations shall be ...   \n",
            "\n",
            "                                         processed_text  \n",
            "117   borrower may qualify interest rate reductions ...  \n",
            "421   credit agreement allows users set automatic bi...  \n",
            "1298  parties agree maintain confidentiality dispute...  \n",
            "774   business fails report taxable income face fina...  \n",
            "1486  delays fulfilling obligations shall promptly c...  \n"
          ]
        }
      ],
      "source": [
        "import re\n",
        "import nltk\n",
        "# nltk.data.path.append(\"/root/nltk_data\")  # Remove this line or correct the path\n",
        "nltk.download('punkt')\n",
        "nltk.download('stopwords')\n",
        "nltk.download('punkt_tab') # Download the missing 'punkt_tab' resource\n",
        "from nltk.corpus import stopwords\n",
        "from nltk.tokenize import word_tokenize\n",
        "\n",
        "# Function to clean and preprocess text\n",
        "def preprocess_text(text):\n",
        "    text = text.lower()  # Convert to lowercase\n",
        "    text = re.sub(r'\\W', ' ', text)  # Remove special characters\n",
        "    text = re.sub(r'\\s+', ' ', text)  # Remove extra spaces\n",
        "    tokens = word_tokenize(text)  # Tokenize the text\n",
        "    tokens = [word for word in tokens if word not in stopwords.words('english')]  # Remove stopwords\n",
        "    return ' '.join(tokens)\n",
        "\n",
        "# Apply the preprocessing to the dataset, replacing 'text' with the correct column name\n",
        "# Assuming 'Review' is the column with the text data, update accordingly\n",
        "train_data['processed_text'] = train_data['Statements'].apply(preprocess_text)\n",
        "val_data['processed_text'] = val_data['Statements'].apply(preprocess_text)\n",
        "test_data['processed_text'] = test_data['Statements'].apply(preprocess_text)\n",
        "\n",
        "# Check the processed text\n",
        "print(train_data[['Statements', 'processed_text']].head())"
      ]
    },
    {
      "cell_type": "code",
      "source": [
        "# Install required libraries\n",
        "\n",
        "# Import libraries\n",
        "from sklearn.feature_extraction.text import CountVectorizer, TfidfVectorizer\n",
        "import gensim\n",
        "import numpy as np\n",
        "\n",
        "# Bag of Words (BoW)\n",
        "bow_vectorizer = CountVectorizer(max_features=5000)\n",
        "X_train_bow = bow_vectorizer.fit_transform(train_data['processed_text']).toarray()\n",
        "X_val_bow = bow_vectorizer.transform(val_data['processed_text']).toarray()\n",
        "X_test_bow = bow_vectorizer.transform(test_data['processed_text']).toarray()\n",
        "\n",
        "# TF-IDF\n",
        "tfidf_vectorizer = TfidfVectorizer(max_features=5000)\n",
        "X_train_tfidf = tfidf_vectorizer.fit_transform(train_data['processed_text']).toarray()\n",
        "X_val_tfidf = tfidf_vectorizer.transform(val_data['processed_text']).toarray()\n",
        "X_test_tfidf = tfidf_vectorizer.transform(test_data['processed_text']).toarray()\n",
        "\n",
        "# FastText (Word Embeddings)\n",
        "fasttext_model = gensim.models.FastText(\n",
        "    sentences=train_data['processed_text'].apply(str.split),\n",
        "    vector_size=100, window=5, min_count=5, epochs=10\n",
        ")\n",
        "\n",
        "# Convert text to FastText embeddings (average word vectors for each sentence)\n",
        "def get_sentence_embedding(text, model, vector_size=100):\n",
        "    words = text.split()\n",
        "    word_vectors = [model.wv[word] for word in words if word in model.wv]\n",
        "    if word_vectors:\n",
        "        return np.mean(word_vectors, axis=0)  # Average word vectors\n",
        "    else:\n",
        "        return np.zeros(vector_size)  # Return zero vector if no words are in vocabulary\n",
        "\n",
        "X_train_fasttext = np.array([get_sentence_embedding(text, fasttext_model) for text in train_data['processed_text']])\n",
        "X_val_fasttext = np.array([get_sentence_embedding(text, fasttext_model) for text in val_data['processed_text']])\n",
        "X_test_fasttext = np.array([get_sentence_embedding(text, fasttext_model) for text in test_data['processed_text']])\n",
        "\n",
        "print(\"Embedding completed for BoW, TF-IDF, and FastText.\")\n"
      ],
      "metadata": {
        "colab": {
          "base_uri": "https://localhost:8080/"
        },
        "id": "3ykEgS5ZbEDP",
        "outputId": "64675bc8-b843-45ee-e667-3f9e0ce94fbe"
      },
      "execution_count": null,
      "outputs": [
        {
          "output_type": "stream",
          "name": "stdout",
          "text": [
            "Embedding completed for BoW, TF-IDF, and FastText.\n"
          ]
        }
      ]
    },
    {
      "cell_type": "code",
      "source": [
        "from tensorflow.keras.models import Sequential\n",
        "from tensorflow.keras.layers import Dense\n",
        "from tensorflow.keras.losses import CategoricalCrossentropy\n",
        "from tensorflow.keras.optimizers import Adam\n",
        "\n",
        "def cnn_model(input_dim):\n",
        "    model = Sequential([\n",
        "        Dense(512, activation='relu', input_shape=(input_dim,)),\n",
        "        Dense(256, activation='relu'),\n",
        "        Dense(3, activation='softmax')  # Ensure output units match the number of classes\n",
        "    ])\n",
        "\n",
        "    model.compile(optimizer=Adam(learning_rate=0.00005),\n",
        "                  loss=CategoricalCrossentropy(label_smoothing=0.1),\n",
        "                  metrics=['accuracy'])\n",
        "\n",
        "    return model\n",
        "\n",
        "input_dim = X_train_bow.shape[1]  # Should be 1657\n",
        "cnn = cnn_model(input_dim)\n"
      ],
      "metadata": {
        "id": "ArzwgOiZDE1G"
      },
      "execution_count": null,
      "outputs": []
    },
    {
      "cell_type": "code",
      "source": [
        "import numpy as np\n",
        "\n",
        "X_train_bow = np.array(X_train_bow, dtype=np.float32)\n",
        "X_val_bow = np.array(X_val_bow, dtype=np.float32)\n",
        "y_train_one_hot = np.array(y_train_one_hot, dtype=np.float32)\n",
        "y_val_one_hot = np.array(y_val_one_hot, dtype=np.float32)\n"
      ],
      "metadata": {
        "id": "-Y17HH8yDHp-"
      },
      "execution_count": null,
      "outputs": []
    },
    {
      "cell_type": "code",
      "source": [
        "cnn.fit(X_train_bow, y_train_one_hot, validation_data=(X_val_bow, y_val_one_hot),\n",
        "        epochs=20, batch_size=64, callbacks=[early_stopping])\n"
      ],
      "metadata": {
        "colab": {
          "base_uri": "https://localhost:8080/"
        },
        "id": "0HSH38CBDJpX",
        "outputId": "33df5033-4d75-48a2-849c-e26724a630dd"
      },
      "execution_count": null,
      "outputs": [
        {
          "output_type": "stream",
          "name": "stdout",
          "text": [
            "Epoch 1/20\n",
            "\u001b[1m19/19\u001b[0m \u001b[32m━━━━━━━━━━━━━━━━━━━━\u001b[0m\u001b[37m\u001b[0m \u001b[1m2s\u001b[0m 35ms/step - accuracy: 0.4984 - loss: 1.0845 - val_accuracy: 0.6894 - val_loss: 1.0612\n",
            "Epoch 2/20\n",
            "\u001b[1m19/19\u001b[0m \u001b[32m━━━━━━━━━━━━━━━━━━━━\u001b[0m\u001b[37m\u001b[0m \u001b[1m0s\u001b[0m 22ms/step - accuracy: 0.7318 - loss: 1.0532 - val_accuracy: 0.8030 - val_loss: 1.0362\n",
            "Epoch 3/20\n",
            "\u001b[1m19/19\u001b[0m \u001b[32m━━━━━━━━━━━━━━━━━━━━\u001b[0m\u001b[37m\u001b[0m \u001b[1m1s\u001b[0m 20ms/step - accuracy: 0.8419 - loss: 1.0227 - val_accuracy: 0.8864 - val_loss: 1.0075\n",
            "Epoch 4/20\n",
            "\u001b[1m19/19\u001b[0m \u001b[32m━━━━━━━━━━━━━━━━━━━━\u001b[0m\u001b[37m\u001b[0m \u001b[1m1s\u001b[0m 22ms/step - accuracy: 0.9237 - loss: 0.9819 - val_accuracy: 0.9091 - val_loss: 0.9731\n",
            "Epoch 5/20\n",
            "\u001b[1m19/19\u001b[0m \u001b[32m━━━━━━━━━━━━━━━━━━━━\u001b[0m\u001b[37m\u001b[0m \u001b[1m0s\u001b[0m 21ms/step - accuracy: 0.9464 - loss: 0.9384 - val_accuracy: 0.9015 - val_loss: 0.9316\n",
            "Epoch 6/20\n",
            "\u001b[1m19/19\u001b[0m \u001b[32m━━━━━━━━━━━━━━━━━━━━\u001b[0m\u001b[37m\u001b[0m \u001b[1m1s\u001b[0m 22ms/step - accuracy: 0.9578 - loss: 0.8946 - val_accuracy: 0.9394 - val_loss: 0.8833\n",
            "Epoch 7/20\n",
            "\u001b[1m19/19\u001b[0m \u001b[32m━━━━━━━━━━━━━━━━━━━━\u001b[0m\u001b[37m\u001b[0m \u001b[1m1s\u001b[0m 22ms/step - accuracy: 0.9625 - loss: 0.8335 - val_accuracy: 0.9545 - val_loss: 0.8271\n",
            "Epoch 8/20\n",
            "\u001b[1m19/19\u001b[0m \u001b[32m━━━━━━━━━━━━━━━━━━━━\u001b[0m\u001b[37m\u001b[0m \u001b[1m0s\u001b[0m 22ms/step - accuracy: 0.9647 - loss: 0.7754 - val_accuracy: 0.9470 - val_loss: 0.7667\n",
            "Epoch 9/20\n",
            "\u001b[1m19/19\u001b[0m \u001b[32m━━━━━━━━━━━━━━━━━━━━\u001b[0m\u001b[37m\u001b[0m \u001b[1m1s\u001b[0m 22ms/step - accuracy: 0.9853 - loss: 0.6968 - val_accuracy: 0.9545 - val_loss: 0.7018\n",
            "Epoch 10/20\n",
            "\u001b[1m19/19\u001b[0m \u001b[32m━━━━━━━━━━━━━━━━━━━━\u001b[0m\u001b[37m\u001b[0m \u001b[1m1s\u001b[0m 22ms/step - accuracy: 0.9807 - loss: 0.6365 - val_accuracy: 0.9621 - val_loss: 0.6393\n",
            "Epoch 11/20\n",
            "\u001b[1m19/19\u001b[0m \u001b[32m━━━━━━━━━━━━━━━━━━━━\u001b[0m\u001b[37m\u001b[0m \u001b[1m1s\u001b[0m 23ms/step - accuracy: 0.9847 - loss: 0.5630 - val_accuracy: 0.9621 - val_loss: 0.5829\n",
            "Epoch 12/20\n",
            "\u001b[1m19/19\u001b[0m \u001b[32m━━━━━━━━━━━━━━━━━━━━\u001b[0m\u001b[37m\u001b[0m \u001b[1m0s\u001b[0m 22ms/step - accuracy: 0.9846 - loss: 0.5116 - val_accuracy: 0.9621 - val_loss: 0.5352\n",
            "Epoch 13/20\n",
            "\u001b[1m19/19\u001b[0m \u001b[32m━━━━━━━━━━━━━━━━━━━━\u001b[0m\u001b[37m\u001b[0m \u001b[1m1s\u001b[0m 32ms/step - accuracy: 0.9876 - loss: 0.4601 - val_accuracy: 0.9621 - val_loss: 0.4962\n",
            "Epoch 14/20\n",
            "\u001b[1m19/19\u001b[0m \u001b[32m━━━━━━━━━━━━━━━━━━━━\u001b[0m\u001b[37m\u001b[0m \u001b[1m1s\u001b[0m 33ms/step - accuracy: 0.9859 - loss: 0.4246 - val_accuracy: 0.9621 - val_loss: 0.4659\n",
            "Epoch 15/20\n",
            "\u001b[1m19/19\u001b[0m \u001b[32m━━━━━━━━━━━━━━━━━━━━\u001b[0m\u001b[37m\u001b[0m \u001b[1m1s\u001b[0m 37ms/step - accuracy: 0.9903 - loss: 0.3993 - val_accuracy: 0.9621 - val_loss: 0.4433\n",
            "Epoch 16/20\n",
            "\u001b[1m19/19\u001b[0m \u001b[32m━━━━━━━━━━━━━━━━━━━━\u001b[0m\u001b[37m\u001b[0m \u001b[1m0s\u001b[0m 23ms/step - accuracy: 0.9864 - loss: 0.3814 - val_accuracy: 0.9621 - val_loss: 0.4254\n",
            "Epoch 17/20\n",
            "\u001b[1m19/19\u001b[0m \u001b[32m━━━━━━━━━━━━━━━━━━━━\u001b[0m\u001b[37m\u001b[0m \u001b[1m1s\u001b[0m 24ms/step - accuracy: 0.9887 - loss: 0.3665 - val_accuracy: 0.9697 - val_loss: 0.4123\n",
            "Epoch 18/20\n",
            "\u001b[1m19/19\u001b[0m \u001b[32m━━━━━━━━━━━━━━━━━━━━\u001b[0m\u001b[37m\u001b[0m \u001b[1m1s\u001b[0m 24ms/step - accuracy: 0.9916 - loss: 0.3488 - val_accuracy: 0.9697 - val_loss: 0.4029\n",
            "Epoch 19/20\n",
            "\u001b[1m19/19\u001b[0m \u001b[32m━━━━━━━━━━━━━━━━━━━━\u001b[0m\u001b[37m\u001b[0m \u001b[1m0s\u001b[0m 23ms/step - accuracy: 0.9915 - loss: 0.3443 - val_accuracy: 0.9697 - val_loss: 0.3950\n",
            "Epoch 20/20\n",
            "\u001b[1m19/19\u001b[0m \u001b[32m━━━━━━━━━━━━━━━━━━━━\u001b[0m\u001b[37m\u001b[0m \u001b[1m1s\u001b[0m 24ms/step - accuracy: 0.9943 - loss: 0.3326 - val_accuracy: 0.9773 - val_loss: 0.3893\n"
          ]
        },
        {
          "output_type": "execute_result",
          "data": {
            "text/plain": [
              "<keras.src.callbacks.history.History at 0x7f5a307872d0>"
            ]
          },
          "metadata": {},
          "execution_count": 53
        }
      ]
    },
    {
      "cell_type": "code",
      "source": [
        "from sklearn.preprocessing import LabelEncoder\n",
        "\n",
        "# Encode actual labels into numerical form\n",
        "label_encoder = LabelEncoder()\n",
        "y_true_encoded = label_encoder.fit_transform(y_true)  # Convert string labels to numbers\n",
        "\n",
        "# Print mapping for debugging\n",
        "print(\"Label Encoding Mapping:\", dict(zip(label_encoder.classes_, label_encoder.transform(label_encoder.classes_))))\n",
        "\n",
        "# Compute accuracy and classification report\n",
        "cnn_acc = accuracy_score(y_true_encoded, y_pred_cnn_classes)\n",
        "print(\"CNN Accuracy:\", cnn_acc)\n",
        "print(\"CNN Classification Report:\\n\", classification_report(y_true_encoded, y_pred_cnn_classes))\n"
      ],
      "metadata": {
        "colab": {
          "base_uri": "https://localhost:8080/"
        },
        "id": "6GmRU7R5EKkC",
        "outputId": "88d5b772-ec6f-41c9-8189-f61169da32e0"
      },
      "execution_count": null,
      "outputs": [
        {
          "output_type": "stream",
          "name": "stdout",
          "text": [
            "Label Encoding Mapping: {'Beneficial': 0, 'High-Risk': 1, 'Standard': 2}\n",
            "CNN Accuracy: 0.9725609756097561\n",
            "CNN Classification Report:\n",
            "               precision    recall  f1-score   support\n",
            "\n",
            "           0       0.98      0.97      0.97       128\n",
            "           1       0.97      0.97      0.97       103\n",
            "           2       0.97      0.98      0.97        97\n",
            "\n",
            "    accuracy                           0.97       328\n",
            "   macro avg       0.97      0.97      0.97       328\n",
            "weighted avg       0.97      0.97      0.97       328\n",
            "\n"
          ]
        }
      ]
    },
    {
      "cell_type": "code",
      "source": [
        "import time\n",
        "import numpy as np\n",
        "import pandas as pd\n",
        "from sklearn.feature_extraction.text import CountVectorizer, TfidfVectorizer\n",
        "from sklearn.metrics import accuracy_score, classification_report\n",
        "from tensorflow.keras.models import Sequential\n",
        "from tensorflow.keras.layers import Embedding, Conv1D, LSTM, Bidirectional, Dense, Flatten, GlobalMaxPooling1D\n",
        "from tensorflow.keras.preprocessing.text import Tokenizer\n",
        "from tensorflow.keras.preprocessing.sequence import pad_sequences\n",
        "from tensorflow.keras.utils import to_categorical\n",
        "\n",
        "# Load Dataset\n",
        "df = pd.read_csv(\"Sheet1.csv\")  # Ensure this file contains 'processed_text' and 'Category'\n",
        "df['label'] = df['Category'].astype('category').cat.codes  # Convert labels to numeric\n",
        "\n",
        "# Train-Test Split\n",
        "from sklearn.model_selection import train_test_split\n",
        "X_train, X_test, y_train, y_test = train_test_split(df['Statements'], df['label'], test_size=0.2, random_state=42)\n",
        "\n",
        "# Tokenization\n",
        "tokenizer = Tokenizer()\n",
        "tokenizer.fit_on_texts(X_train)\n",
        "X_train_seq = tokenizer.texts_to_sequences(X_train)\n",
        "X_test_seq = tokenizer.texts_to_sequences(X_test)\n",
        "\n",
        "# Padding\n",
        "max_length = max(len(seq) for seq in X_train_seq)\n",
        "X_train_padded = pad_sequences(X_train_seq, maxlen=max_length, padding=\"post\")\n",
        "X_test_padded = pad_sequences(X_test_seq, maxlen=max_length, padding=\"post\")\n",
        "\n",
        "# Convert labels to categorical\n",
        "num_classes = len(df['label'].unique())\n",
        "y_train_cat = to_categorical(y_train, num_classes)\n",
        "y_test_cat = to_categorical(y_test, num_classes)\n",
        "\n",
        "# Feature Extraction (BoW, TF-IDF)\n",
        "vectorizer_bow = CountVectorizer()\n",
        "X_train_bow = vectorizer_bow.fit_transform(X_train).toarray()\n",
        "X_test_bow = vectorizer_bow.transform(X_test).toarray()\n",
        "\n",
        "vectorizer_tfidf = TfidfVectorizer()\n",
        "X_train_tfidf = vectorizer_tfidf.fit_transform(X_train).toarray()\n",
        "X_test_tfidf = vectorizer_tfidf.transform(X_test).toarray()\n",
        "\n",
        "# Model Definitions\n",
        "def create_cnn_model(input_dim):\n",
        "    model = Sequential([\n",
        "        Embedding(input_dim, 128, input_length=max_length),\n",
        "        Conv1D(128, 5, activation='relu'),\n",
        "        GlobalMaxPooling1D(),\n",
        "        Dense(64, activation='relu'),\n",
        "        Dense(num_classes, activation='softmax')\n",
        "    ])\n",
        "    model.compile(optimizer='adam', loss='categorical_crossentropy', metrics=['accuracy'])\n",
        "    return model\n",
        "\n",
        "def create_lstm_model(input_dim):\n",
        "    model = Sequential([\n",
        "        Embedding(input_dim, 128, input_length=max_length),\n",
        "        LSTM(128),\n",
        "        Dense(64, activation='relu'),\n",
        "        Dense(num_classes, activation='softmax')\n",
        "    ])\n",
        "    model.compile(optimizer='adam', loss='categorical_crossentropy', metrics=['accuracy'])\n",
        "    return model\n",
        "\n",
        "def create_bilstm_model(input_dim):\n",
        "    model = Sequential([\n",
        "        Embedding(input_dim, 128, input_length=max_length),\n",
        "        Bidirectional(LSTM(128)),\n",
        "        Dense(64, activation='relu'),\n",
        "        Dense(num_classes, activation='softmax')\n",
        "    ])\n",
        "    model.compile(optimizer='adam', loss='categorical_crossentropy', metrics=['accuracy'])\n",
        "    return model\n",
        "\n",
        "def create_cnn_bilstm_model(input_dim):\n",
        "    model = Sequential([\n",
        "        Embedding(input_dim, 128, input_length=max_length),\n",
        "        Conv1D(128, 5, activation='relu'),\n",
        "        Bidirectional(LSTM(128)),\n",
        "        Dense(64, activation='relu'),\n",
        "        Dense(num_classes, activation='softmax')\n",
        "    ])\n",
        "    model.compile(optimizer='adam', loss='categorical_crossentropy', metrics=['accuracy'])\n",
        "    return model\n",
        "\n",
        "# Initialize Models\n",
        "input_dim = len(tokenizer.word_index) + 1\n",
        "cnn = create_cnn_model(input_dim)\n",
        "lstm = create_lstm_model(input_dim)\n",
        "bilstm = create_bilstm_model(input_dim)\n",
        "cnn_bilstm = create_cnn_bilstm_model(input_dim)\n",
        "\n",
        "# Train Models\n",
        "models = {\"CNN\": cnn, \"LSTM\": lstm, \"BiLSTM\": bilstm, \"CNN-BiLSTM\": cnn_bilstm}\n",
        "for name, model in models.items():\n",
        "    print(f\"Training {name}...\")\n",
        "    model.fit(X_train_padded, y_train_cat, epochs=5, batch_size=32, validation_data=(X_test_padded, y_test_cat))\n",
        "\n",
        "# Evaluation Function\n",
        "def evaluate_model(model, X_test, y_test, model_name, embedding_name):\n",
        "    start_time = time.time()\n",
        "    y_pred = model.predict(X_test_padded)\n",
        "    y_pred = np.argmax(y_pred, axis=1)  # Convert one-hot to labels\n",
        "    inference_time = time.time() - start_time\n",
        "\n",
        "    accuracy = accuracy_score(y_test, y_pred)\n",
        "    report = classification_report(y_test, y_pred, output_dict=True)\n",
        "\n",
        "    return {\n",
        "        \"Model\": model_name,\n",
        "        \"Embedding\": embedding_name,\n",
        "        \"Accuracy\": accuracy,\n",
        "        \"Precision\": report[\"weighted avg\"][\"precision\"],\n",
        "        \"Recall\": report[\"weighted avg\"][\"recall\"],\n",
        "        \"F1-score\": report[\"weighted avg\"][\"f1-score\"],\n",
        "        \"Inference Time (s)\": round(inference_time, 4),\n",
        "    }\n",
        "\n",
        "# Evaluate Models on Different Embeddings\n",
        "results = []\n",
        "for name, model in models.items():\n",
        "    results.append(evaluate_model(model, X_test_padded, y_test, name, \"Word Embeddings\"))\n",
        "    results.append(evaluate_model(model, X_test_bow, y_test, name, \"BoW\"))\n",
        "    results.append(evaluate_model(model, X_test_tfidf, y_test, name, \"TF-IDF\"))\n",
        "\n",
        "# Convert to DataFrame and Display\n",
        "df_results = pd.DataFrame(results)\n",
        "print(df_results)\n"
      ],
      "metadata": {
        "colab": {
          "base_uri": "https://localhost:8080/"
        },
        "id": "yRhRiQvXGDjH",
        "outputId": "ea3f20d1-68d3-42ae-e68b-bc506eee7bd3"
      },
      "execution_count": null,
      "outputs": [
        {
          "output_type": "stream",
          "name": "stderr",
          "text": [
            "/usr/local/lib/python3.11/dist-packages/keras/src/layers/core/embedding.py:90: UserWarning: Argument `input_length` is deprecated. Just remove it.\n",
            "  warnings.warn(\n"
          ]
        },
        {
          "output_type": "stream",
          "name": "stdout",
          "text": [
            "Training CNN...\n",
            "Epoch 1/5\n",
            "\u001b[1m41/41\u001b[0m \u001b[32m━━━━━━━━━━━━━━━━━━━━\u001b[0m\u001b[37m\u001b[0m \u001b[1m5s\u001b[0m 26ms/step - accuracy: 0.5532 - loss: 0.9691 - val_accuracy: 0.9299 - val_loss: 0.2520\n",
            "Epoch 2/5\n",
            "\u001b[1m41/41\u001b[0m \u001b[32m━━━━━━━━━━━━━━━━━━━━\u001b[0m\u001b[37m\u001b[0m \u001b[1m1s\u001b[0m 16ms/step - accuracy: 0.9662 - loss: 0.1361 - val_accuracy: 0.9726 - val_loss: 0.0988\n",
            "Epoch 3/5\n",
            "\u001b[1m41/41\u001b[0m \u001b[32m━━━━━━━━━━━━━━━━━━━━\u001b[0m\u001b[37m\u001b[0m \u001b[1m1s\u001b[0m 16ms/step - accuracy: 0.9961 - loss: 0.0230 - val_accuracy: 0.9756 - val_loss: 0.0785\n",
            "Epoch 4/5\n",
            "\u001b[1m41/41\u001b[0m \u001b[32m━━━━━━━━━━━━━━━━━━━━\u001b[0m\u001b[37m\u001b[0m \u001b[1m1s\u001b[0m 19ms/step - accuracy: 0.9984 - loss: 0.0092 - val_accuracy: 0.9817 - val_loss: 0.0789\n",
            "Epoch 5/5\n",
            "\u001b[1m41/41\u001b[0m \u001b[32m━━━━━━━━━━━━━━━━━━━━\u001b[0m\u001b[37m\u001b[0m \u001b[1m1s\u001b[0m 16ms/step - accuracy: 1.0000 - loss: 0.0038 - val_accuracy: 0.9756 - val_loss: 0.0824\n",
            "Training LSTM...\n",
            "Epoch 1/5\n",
            "\u001b[1m41/41\u001b[0m \u001b[32m━━━━━━━━━━━━━━━━━━━━\u001b[0m\u001b[37m\u001b[0m \u001b[1m7s\u001b[0m 59ms/step - accuracy: 0.4772 - loss: 0.9984 - val_accuracy: 0.9512 - val_loss: 0.1888\n",
            "Epoch 2/5\n",
            "\u001b[1m41/41\u001b[0m \u001b[32m━━━━━━━━━━━━━━━━━━━━\u001b[0m\u001b[37m\u001b[0m \u001b[1m2s\u001b[0m 43ms/step - accuracy: 0.9752 - loss: 0.0944 - val_accuracy: 0.9665 - val_loss: 0.1065\n",
            "Epoch 3/5\n",
            "\u001b[1m41/41\u001b[0m \u001b[32m━━━━━━━━━━━━━━━━━━━━\u001b[0m\u001b[37m\u001b[0m \u001b[1m3s\u001b[0m 44ms/step - accuracy: 0.9851 - loss: 0.0536 - val_accuracy: 0.9451 - val_loss: 0.2564\n",
            "Epoch 4/5\n",
            "\u001b[1m41/41\u001b[0m \u001b[32m━━━━━━━━━━━━━━━━━━━━\u001b[0m\u001b[37m\u001b[0m \u001b[1m3s\u001b[0m 44ms/step - accuracy: 0.9866 - loss: 0.0565 - val_accuracy: 0.9634 - val_loss: 0.1066\n",
            "Epoch 5/5\n",
            "\u001b[1m41/41\u001b[0m \u001b[32m━━━━━━━━━━━━━━━━━━━━\u001b[0m\u001b[37m\u001b[0m \u001b[1m3s\u001b[0m 72ms/step - accuracy: 0.9988 - loss: 0.0071 - val_accuracy: 0.9756 - val_loss: 0.0868\n",
            "Training BiLSTM...\n",
            "Epoch 1/5\n",
            "\u001b[1m41/41\u001b[0m \u001b[32m━━━━━━━━━━━━━━━━━━━━\u001b[0m\u001b[37m\u001b[0m \u001b[1m8s\u001b[0m 88ms/step - accuracy: 0.6596 - loss: 0.8996 - val_accuracy: 0.9543 - val_loss: 0.1786\n",
            "Epoch 2/5\n",
            "\u001b[1m41/41\u001b[0m \u001b[32m━━━━━━━━━━━━━━━━━━━━\u001b[0m\u001b[37m\u001b[0m \u001b[1m4s\u001b[0m 89ms/step - accuracy: 0.9778 - loss: 0.1143 - val_accuracy: 0.9695 - val_loss: 0.0834\n",
            "Epoch 3/5\n",
            "\u001b[1m41/41\u001b[0m \u001b[32m━━━━━━━━━━━━━━━━━━━━\u001b[0m\u001b[37m\u001b[0m \u001b[1m4s\u001b[0m 90ms/step - accuracy: 0.9908 - loss: 0.0416 - val_accuracy: 0.9726 - val_loss: 0.0646\n",
            "Epoch 4/5\n",
            "\u001b[1m41/41\u001b[0m \u001b[32m━━━━━━━━━━━━━━━━━━━━\u001b[0m\u001b[37m\u001b[0m \u001b[1m3s\u001b[0m 73ms/step - accuracy: 0.9988 - loss: 0.0064 - val_accuracy: 0.9604 - val_loss: 0.1442\n",
            "Epoch 5/5\n",
            "\u001b[1m41/41\u001b[0m \u001b[32m━━━━━━━━━━━━━━━━━━━━\u001b[0m\u001b[37m\u001b[0m \u001b[1m3s\u001b[0m 74ms/step - accuracy: 0.9966 - loss: 0.0151 - val_accuracy: 0.9665 - val_loss: 0.0894\n",
            "Training CNN-BiLSTM...\n",
            "Epoch 1/5\n",
            "\u001b[1m41/41\u001b[0m \u001b[32m━━━━━━━━━━━━━━━━━━━━\u001b[0m\u001b[37m\u001b[0m \u001b[1m9s\u001b[0m 85ms/step - accuracy: 0.6010 - loss: 0.9224 - val_accuracy: 0.9604 - val_loss: 0.1143\n",
            "Epoch 2/5\n",
            "\u001b[1m41/41\u001b[0m \u001b[32m━━━━━━━━━━━━━━━━━━━━\u001b[0m\u001b[37m\u001b[0m \u001b[1m6s\u001b[0m 105ms/step - accuracy: 0.9841 - loss: 0.0595 - val_accuracy: 0.9848 - val_loss: 0.0453\n",
            "Epoch 3/5\n",
            "\u001b[1m41/41\u001b[0m \u001b[32m━━━━━━━━━━━━━━━━━━━━\u001b[0m\u001b[37m\u001b[0m \u001b[1m4s\u001b[0m 65ms/step - accuracy: 0.9947 - loss: 0.0183 - val_accuracy: 0.9848 - val_loss: 0.0522\n",
            "Epoch 4/5\n",
            "\u001b[1m41/41\u001b[0m \u001b[32m━━━━━━━━━━━━━━━━━━━━\u001b[0m\u001b[37m\u001b[0m \u001b[1m3s\u001b[0m 72ms/step - accuracy: 0.9986 - loss: 0.0078 - val_accuracy: 0.9787 - val_loss: 0.0671\n",
            "Epoch 5/5\n",
            "\u001b[1m41/41\u001b[0m \u001b[32m━━━━━━━━━━━━━━━━━━━━\u001b[0m\u001b[37m\u001b[0m \u001b[1m3s\u001b[0m 69ms/step - accuracy: 0.9997 - loss: 0.0011 - val_accuracy: 0.9634 - val_loss: 0.1142\n",
            "\u001b[1m11/11\u001b[0m \u001b[32m━━━━━━━━━━━━━━━━━━━━\u001b[0m\u001b[37m\u001b[0m \u001b[1m0s\u001b[0m 12ms/step\n",
            "\u001b[1m11/11\u001b[0m \u001b[32m━━━━━━━━━━━━━━━━━━━━\u001b[0m\u001b[37m\u001b[0m \u001b[1m0s\u001b[0m 7ms/step \n",
            "\u001b[1m11/11\u001b[0m \u001b[32m━━━━━━━━━━━━━━━━━━━━\u001b[0m\u001b[37m\u001b[0m \u001b[1m0s\u001b[0m 6ms/step \n",
            "\u001b[1m11/11\u001b[0m \u001b[32m━━━━━━━━━━━━━━━━━━━━\u001b[0m\u001b[37m\u001b[0m \u001b[1m1s\u001b[0m 32ms/step\n",
            "\u001b[1m11/11\u001b[0m \u001b[32m━━━━━━━━━━━━━━━━━━━━\u001b[0m\u001b[37m\u001b[0m \u001b[1m0s\u001b[0m 15ms/step\n",
            "\u001b[1m11/11\u001b[0m \u001b[32m━━━━━━━━━━━━━━━━━━━━\u001b[0m\u001b[37m\u001b[0m \u001b[1m0s\u001b[0m 14ms/step\n",
            "\u001b[1m11/11\u001b[0m \u001b[32m━━━━━━━━━━━━━━━━━━━━\u001b[0m\u001b[37m\u001b[0m \u001b[1m1s\u001b[0m 60ms/step\n",
            "\u001b[1m11/11\u001b[0m \u001b[32m━━━━━━━━━━━━━━━━━━━━\u001b[0m\u001b[37m\u001b[0m \u001b[1m0s\u001b[0m 20ms/step\n",
            "\u001b[1m11/11\u001b[0m \u001b[32m━━━━━━━━━━━━━━━━━━━━\u001b[0m\u001b[37m\u001b[0m \u001b[1m0s\u001b[0m 20ms/step\n",
            "\u001b[1m11/11\u001b[0m \u001b[32m━━━━━━━━━━━━━━━━━━━━\u001b[0m\u001b[37m\u001b[0m \u001b[1m1s\u001b[0m 60ms/step\n",
            "\u001b[1m11/11\u001b[0m \u001b[32m━━━━━━━━━━━━━━━━━━━━\u001b[0m\u001b[37m\u001b[0m \u001b[1m0s\u001b[0m 18ms/step\n",
            "\u001b[1m11/11\u001b[0m \u001b[32m━━━━━━━━━━━━━━━━━━━━\u001b[0m\u001b[37m\u001b[0m \u001b[1m0s\u001b[0m 17ms/step\n",
            "         Model        Embedding  Accuracy  Precision    Recall  F1-score  \\\n",
            "0          CNN  Word Embeddings  0.975610   0.975610  0.975610  0.975610   \n",
            "1          CNN              BoW  0.975610   0.975610  0.975610  0.975610   \n",
            "2          CNN           TF-IDF  0.975610   0.975610  0.975610  0.975610   \n",
            "3         LSTM  Word Embeddings  0.975610   0.975929  0.975610  0.975675   \n",
            "4         LSTM              BoW  0.975610   0.975929  0.975610  0.975675   \n",
            "5         LSTM           TF-IDF  0.975610   0.975929  0.975610  0.975675   \n",
            "6       BiLSTM  Word Embeddings  0.966463   0.966943  0.966463  0.966400   \n",
            "7       BiLSTM              BoW  0.966463   0.966943  0.966463  0.966400   \n",
            "8       BiLSTM           TF-IDF  0.966463   0.966943  0.966463  0.966400   \n",
            "9   CNN-BiLSTM  Word Embeddings  0.963415   0.964711  0.963415  0.963620   \n",
            "10  CNN-BiLSTM              BoW  0.963415   0.964711  0.963415  0.963620   \n",
            "11  CNN-BiLSTM           TF-IDF  0.963415   0.964711  0.963415  0.963620   \n",
            "\n",
            "    Inference Time (s)  \n",
            "0               0.3718  \n",
            "1               0.1617  \n",
            "2               0.1429  \n",
            "3               0.6916  \n",
            "4               0.2499  \n",
            "5               0.3680  \n",
            "6               1.0789  \n",
            "7               0.2886  \n",
            "8               0.3089  \n",
            "9               1.0761  \n",
            "10              0.3725  \n",
            "11              0.3719  \n"
          ]
        }
      ]
    },
    {
      "cell_type": "code",
      "source": [
        "import tensorflow as tf\n",
        "\n",
        "# Find the best model based on Accuracy\n",
        "best_model_entry = comparison_df.loc[comparison_df[\"Accuracy\"].idxmax()]\n",
        "best_model_name = best_model_entry[\"Model\"]\n",
        "\n",
        "# Map model names to actual objects\n",
        "# Assuming you have initialized the models like this:\n",
        "input_dim = len(tokenizer.word_index) + 1 # Make sure input_dim is defined\n",
        "cnn_model = create_cnn_model(input_dim)\n",
        "lstm_model = create_lstm_model(input_dim)\n",
        "bilstm_model = create_bilstm_model(input_dim)\n",
        "cnn_bilstm_model = create_cnn_bilstm_model(input_dim)\n",
        "\n",
        "model_dict = {\n",
        "    \"CNN\": cnn_model, # Use the initialized model objects\n",
        "    \"LSTM\": lstm_model,\n",
        "    \"BiLSTM\": bilstm_model,\n",
        "    \"CNN-BiLSTM\": cnn_bilstm_model\n",
        "}\n",
        "\n",
        "# Get the best model object\n",
        "best_model = model_dict[best_model_name]\n",
        "\n",
        "# Save the best model\n",
        "best_model.save(\"best_text_classification_model.h5\")\n",
        "print(f\"Best model '{best_model_name}' saved as 'best_text_classification_model.h5'\")"
      ],
      "metadata": {
        "colab": {
          "base_uri": "https://localhost:8080/"
        },
        "id": "l2OJ31IWNHbi",
        "outputId": "3680f768-c0e5-4f01-c14b-5d06989c3782"
      },
      "execution_count": null,
      "outputs": [
        {
          "output_type": "stream",
          "name": "stderr",
          "text": [
            "/usr/local/lib/python3.11/dist-packages/keras/src/layers/core/embedding.py:90: UserWarning: Argument `input_length` is deprecated. Just remove it.\n",
            "  warnings.warn(\n",
            "WARNING:absl:You are saving your model as an HDF5 file via `model.save()` or `keras.saving.save_model(model)`. This file format is considered legacy. We recommend using instead the native Keras format, e.g. `model.save('my_model.keras')` or `keras.saving.save_model(model, 'my_model.keras')`. \n"
          ]
        },
        {
          "output_type": "stream",
          "name": "stdout",
          "text": [
            "Best model 'LSTM' saved as 'best_text_classification_model.h5'\n"
          ]
        }
      ]
    },
    {
      "cell_type": "code",
      "source": [
        "from keras.models import load_model\n",
        "import numpy as np\n",
        "\n",
        "# Load the saved model\n",
        "model = load_model('best_text_classification_model.h5', compile=False)\n",
        "\n",
        "# Define class labels mapping\n",
        "label_mapping = {0: 'Beneficial', 1: 'High-Risk', 2: 'Standard'}\n",
        "\n",
        "# Function to preprocess real-world input\n",
        "def preprocess_text(text):\n",
        "    # Add your text preprocessing steps (lowercasing, stopword removal, tokenization, etc.)\n",
        "    text = text.lower()\n",
        "    return text\n",
        "\n",
        "# Real-world input (change this to test different inputs)\n",
        "new_text = \"Any breach of ethical policies will result in termination without compensation.  \"\n",
        "\n",
        "# Preprocess the input text\n",
        "processed_text = preprocess_text(new_text)\n",
        "\n",
        "# Convert text to appropriate feature representation (BoW, TF-IDF, or Word Embeddings)\n",
        "input_data = bow_vectorizer.transform([processed_text]).toarray()  # Change based on embedding used\n",
        "\n",
        "# Predict class probabilities\n",
        "pred_probs = model.predict(input_data)\n",
        "\n",
        "# Get the predicted class and confidence score\n",
        "predicted_class = np.argmax(pred_probs, axis=1)[0]  # Get class index\n",
        "confidence_score = np.max(pred_probs)  # Get probability of the predicted class\n",
        "\n",
        "# Get predicted category name\n",
        "predicted_category = label_mapping[predicted_class]\n",
        "\n",
        "# Print the prediction\n",
        "print(f\"Predicted Category: {predicted_category}\")\n",
        "print(f\"Confidence Score: {confidence_score:.4f}\")\n"
      ],
      "metadata": {
        "colab": {
          "base_uri": "https://localhost:8080/"
        },
        "id": "_DtC7N2bNzn1",
        "outputId": "711504f0-9d39-401c-9df2-11cab2495b95"
      },
      "execution_count": null,
      "outputs": [
        {
          "output_type": "stream",
          "name": "stdout",
          "text": [
            "\u001b[1m1/1\u001b[0m \u001b[32m━━━━━━━━━━━━━━━━━━━━\u001b[0m\u001b[37m\u001b[0m \u001b[1m1s\u001b[0m 1s/step\n",
            "Predicted Category: High-Risk\n",
            "Confidence Score: 0.3452\n"
          ]
        }
      ]
    },
    {
      "cell_type": "markdown",
      "source": [],
      "metadata": {
        "id": "q4vKpAKcRv5a"
      }
    }
  ],
  "metadata": {
    "colab": {
      "provenance": [],
      "include_colab_link": true
    },
    "kernelspec": {
      "display_name": "Python 3",
      "name": "python3"
    },
    "language_info": {
      "name": "python"
    }
  },
  "nbformat": 4,
  "nbformat_minor": 0
}